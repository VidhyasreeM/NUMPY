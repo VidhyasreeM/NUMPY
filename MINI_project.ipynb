{
  "nbformat": 4,
  "nbformat_minor": 0,
  "metadata": {
    "colab": {
      "provenance": []
    },
    "kernelspec": {
      "name": "python3",
      "display_name": "Python 3"
    },
    "language_info": {
      "name": "python"
    }
  },
  "cells": [
    {
      "cell_type": "markdown",
      "source": [
        "1.DATA CREATION:Create a suitable arrays to represent students,subjects,and their marks"
      ],
      "metadata": {
        "id": "MrEeJfxq2e7J"
      }
    },
    {
      "cell_type": "code",
      "source": [
        "import numpy as np\n",
        "scl = np.array([[101,102,103,104],[1321,2432,3543,4654],[67,98,87,35]])\n",
        "scl"
      ],
      "metadata": {
        "colab": {
          "base_uri": "https://localhost:8080/"
        },
        "id": "J6FrhnOW2hER",
        "outputId": "03ad5d7c-dfaf-48f2-8050-f5da05e19a1d"
      },
      "execution_count": 1,
      "outputs": [
        {
          "output_type": "execute_result",
          "data": {
            "text/plain": [
              "array([[ 101,  102,  103,  104],\n",
              "       [1321, 2432, 3543, 4654],\n",
              "       [  67,   98,   87,   35]])"
            ]
          },
          "metadata": {},
          "execution_count": 1
        }
      ]
    },
    {
      "cell_type": "markdown",
      "source": [
        "2.DATA EXPLORATION:explore the properties of these arrays,such as their dimension,size and structure"
      ],
      "metadata": {
        "id": "V6f_Ju962tVP"
      }
    },
    {
      "cell_type": "code",
      "source": [
        "scl.shape\n",
        "scl.ndim\n",
        "scl.size"
      ],
      "metadata": {
        "colab": {
          "base_uri": "https://localhost:8080/"
        },
        "id": "VHlDEsXW2t_9",
        "outputId": "51e3821a-0e06-4f39-fc8f-bea67b2c6d81"
      },
      "execution_count": 3,
      "outputs": [
        {
          "output_type": "execute_result",
          "data": {
            "text/plain": [
              "12"
            ]
          },
          "metadata": {},
          "execution_count": 3
        }
      ]
    },
    {
      "cell_type": "markdown",
      "source": [
        "3.DATA TRANSFORMATION:perform necessary reshaping and regognising of the data to suit various operations"
      ],
      "metadata": {
        "id": "3DaJRlge2xcu"
      }
    },
    {
      "cell_type": "code",
      "source": [
        "scl.T"
      ],
      "metadata": {
        "colab": {
          "base_uri": "https://localhost:8080/"
        },
        "id": "dYwMr6mO22y6",
        "outputId": "7ba23cff-9a04-41c5-f182-672de6fc2821"
      },
      "execution_count": 2,
      "outputs": [
        {
          "output_type": "execute_result",
          "data": {
            "text/plain": [
              "array([[ 101, 1321,   67],\n",
              "       [ 102, 2432,   98],\n",
              "       [ 103, 3543,   87],\n",
              "       [ 104, 4654,   35]])"
            ]
          },
          "metadata": {},
          "execution_count": 2
        }
      ]
    },
    {
      "cell_type": "markdown",
      "source": [
        "4.DATA COMBINATION:merge or split arrays to stimulate adding new students,nwe subjects,or recognaising the datasets"
      ],
      "metadata": {
        "id": "Ebr_pG-Z3ACn"
      }
    },
    {
      "cell_type": "code",
      "source": [
        "newcol = np.array([[109],[9879],[58]])\n",
        "scl = np.hstack((scl,newcol))\n",
        "scl"
      ],
      "metadata": {
        "colab": {
          "base_uri": "https://localhost:8080/"
        },
        "id": "xpc2q7OL3A6Y",
        "outputId": "4ae59579-5679-4242-9143-e85058fe363f"
      },
      "execution_count": 4,
      "outputs": [
        {
          "output_type": "execute_result",
          "data": {
            "text/plain": [
              "array([[ 101,  102,  103,  104,  109],\n",
              "       [1321, 2432, 3543, 4654, 9879],\n",
              "       [  67,   98,   87,   35,   58]])"
            ]
          },
          "metadata": {},
          "execution_count": 4
        }
      ]
    },
    {
      "cell_type": "markdown",
      "source": [
        "5.DATA MODIFICATION:Apply operations to update marks,remove data,or identify unique information"
      ],
      "metadata": {
        "id": "97ejZXda3EqQ"
      }
    },
    {
      "cell_type": "code",
      "source": [
        "student = scl[0]\n",
        "subject = scl[1]\n",
        "marks = scl[2]\n",
        "\n",
        "marks[3]=89\n",
        "marks[2]=56\n",
        "\n",
        "np.delete(subject,4)\n",
        "\n",
        "subject\n",
        "\n",
        "marks"
      ],
      "metadata": {
        "colab": {
          "base_uri": "https://localhost:8080/"
        },
        "id": "jS-r2fOD3Kxj",
        "outputId": "400be1b8-2b92-4807-e1b5-2036b8124034"
      },
      "execution_count": 7,
      "outputs": [
        {
          "output_type": "execute_result",
          "data": {
            "text/plain": [
              "array([67, 98, 56, 89, 58])"
            ]
          },
          "metadata": {},
          "execution_count": 7
        }
      ]
    },
    {
      "cell_type": "code",
      "source": [
        "data = np.array([student,subject,marks])\n",
        "data"
      ],
      "metadata": {
        "colab": {
          "base_uri": "https://localhost:8080/"
        },
        "id": "YgfOVn1x3VfO",
        "outputId": "c211f337-05e5-47ec-db4a-eb332e392487"
      },
      "execution_count": 8,
      "outputs": [
        {
          "output_type": "execute_result",
          "data": {
            "text/plain": [
              "array([[ 101,  102,  103,  104,  109],\n",
              "       [1321, 2432, 3543, 4654, 9879],\n",
              "       [  67,   98,   56,   89,   58]])"
            ]
          },
          "metadata": {},
          "execution_count": 8
        }
      ]
    },
    {
      "cell_type": "markdown",
      "source": [
        "6.DATA TYPE HANDLING:Demonstrate howthe same data can exists in different data types and how changes affect results"
      ],
      "metadata": {
        "id": "5rnytNQO3X8h"
      }
    },
    {
      "cell_type": "code",
      "source": [
        "nscl=scl.copy()\n",
        "nscl[0][3]=108\n",
        "nscl\n",
        "'''array([[ 101,  102,  103,  104,  107,  108,  109],\n",
        "       [1321, 2432, 3543, 4654, 8978, 7897, 9879],\n",
        "       [  99,   98,   87,   67,   76,   76,   58]])'''\n",
        "scl\n",
        "'''array([[ 101,  102,  103,  104,  107,  107,  109],\n",
        "       [1321, 2432, 3543, 4654, 8978, 7897, 9879],\n",
        "       [  99,   98,   87,   67,   76,   76,   58]])'''\n",
        "\n",
        "scl"
      ],
      "metadata": {
        "colab": {
          "base_uri": "https://localhost:8080/"
        },
        "id": "Ei-iC0gK3csx",
        "outputId": "5fd5c9e7-e30f-4b14-a46a-28714afe8ced"
      },
      "execution_count": 9,
      "outputs": [
        {
          "output_type": "execute_result",
          "data": {
            "text/plain": [
              "array([[ 101,  102,  103,  104,  109],\n",
              "       [1321, 2432, 3543, 4654, 9879],\n",
              "       [  67,   98,   56,   89,   58]])"
            ]
          },
          "metadata": {},
          "execution_count": 9
        }
      ]
    },
    {
      "cell_type": "markdown",
      "source": [
        "7.COPY AND VIEW BEHAVIOUR:Show the difference between creating a full copy of array and creating a view of the same data."
      ],
      "metadata": {
        "id": "ocdhpOkC3hdM"
      }
    },
    {
      "cell_type": "code",
      "source": [
        "vscl = scl.view()\n",
        "vscl[1][4]=8978\n",
        "vscl\n",
        "'''array([[ 101,  102,  103,  104,  107,  107,  109],\n",
        "       [1321, 2432, 3543, 4654, 8978, 7897, 9879],\n",
        "       [  99,   98,   87,   67,   76,   76,   58]])'''\n",
        "scl\n",
        "'''array([[ 101,  102,  103,  104,  107,  107,  109],\n",
        "       [1321, 2432, 3543, 4654, 8978, 7897, 9879],\n",
        "       [  99,   98,   87,   67,   76,   76,   58]])'''\n",
        "scl"
      ],
      "metadata": {
        "colab": {
          "base_uri": "https://localhost:8080/"
        },
        "id": "afUE25-53lr_",
        "outputId": "030a095f-0535-4b24-a197-23b168efa533"
      },
      "execution_count": 10,
      "outputs": [
        {
          "output_type": "execute_result",
          "data": {
            "text/plain": [
              "array([[ 101,  102,  103,  104,  109],\n",
              "       [1321, 2432, 3543, 4654, 8978],\n",
              "       [  67,   98,   56,   89,   58]])"
            ]
          },
          "metadata": {},
          "execution_count": 10
        }
      ]
    }
  ]
}